{
 "cells": [
  {
   "cell_type": "code",
   "execution_count": 532,
   "metadata": {},
   "outputs": [],
   "source": [
    "import numpy as np\n",
    "import pandas as pd\n",
    "import math\n",
    "import matplotlib.pyplot as plt\n",
    "from patsy import dmatrices\n",
    "from sklearn.model_selection import train_test_split, cross_val_score\n",
    "#from sklearn.linear_model import LinearRegression\n",
    "#from sklearn.linear_model import Lasso\n",
    "from sklearn.linear_model import Ridge\n",
    "from sklearn import metrics"
   ]
  },
  {
   "cell_type": "code",
   "execution_count": 76,
   "metadata": {},
   "outputs": [
    {
     "data": {
      "text/html": [
       "<div>\n",
       "<style scoped>\n",
       "    .dataframe tbody tr th:only-of-type {\n",
       "        vertical-align: middle;\n",
       "    }\n",
       "\n",
       "    .dataframe tbody tr th {\n",
       "        vertical-align: top;\n",
       "    }\n",
       "\n",
       "    .dataframe thead th {\n",
       "        text-align: right;\n",
       "    }\n",
       "</style>\n",
       "<table border=\"1\" class=\"dataframe\">\n",
       "  <thead>\n",
       "    <tr style=\"text-align: right;\">\n",
       "      <th></th>\n",
       "      <th>season</th>\n",
       "      <th>holiday</th>\n",
       "      <th>workingday</th>\n",
       "      <th>weather</th>\n",
       "      <th>temp</th>\n",
       "      <th>atemp</th>\n",
       "      <th>humidity</th>\n",
       "      <th>windspeed</th>\n",
       "      <th>casual</th>\n",
       "      <th>registered</th>\n",
       "      <th>count</th>\n",
       "    </tr>\n",
       "  </thead>\n",
       "  <tbody>\n",
       "    <tr>\n",
       "      <th>count</th>\n",
       "      <td>8600.000000</td>\n",
       "      <td>8600.000000</td>\n",
       "      <td>8600.000000</td>\n",
       "      <td>8600.00000</td>\n",
       "      <td>8600.000000</td>\n",
       "      <td>8600.000000</td>\n",
       "      <td>8600.000000</td>\n",
       "      <td>8600.000000</td>\n",
       "      <td>8600.000000</td>\n",
       "      <td>8600.000000</td>\n",
       "      <td>8600.000000</td>\n",
       "    </tr>\n",
       "    <tr>\n",
       "      <th>mean</th>\n",
       "      <td>2.505581</td>\n",
       "      <td>0.027791</td>\n",
       "      <td>0.682558</td>\n",
       "      <td>1.41000</td>\n",
       "      <td>20.119653</td>\n",
       "      <td>23.560989</td>\n",
       "      <td>61.590581</td>\n",
       "      <td>12.756693</td>\n",
       "      <td>35.689419</td>\n",
       "      <td>154.840814</td>\n",
       "      <td>190.530233</td>\n",
       "    </tr>\n",
       "    <tr>\n",
       "      <th>std</th>\n",
       "      <td>1.116628</td>\n",
       "      <td>0.164382</td>\n",
       "      <td>0.465508</td>\n",
       "      <td>0.63234</td>\n",
       "      <td>8.000975</td>\n",
       "      <td>8.690173</td>\n",
       "      <td>19.468443</td>\n",
       "      <td>8.209822</td>\n",
       "      <td>49.571896</td>\n",
       "      <td>150.760096</td>\n",
       "      <td>180.631042</td>\n",
       "    </tr>\n",
       "    <tr>\n",
       "      <th>min</th>\n",
       "      <td>1.000000</td>\n",
       "      <td>0.000000</td>\n",
       "      <td>0.000000</td>\n",
       "      <td>1.00000</td>\n",
       "      <td>0.820000</td>\n",
       "      <td>0.760000</td>\n",
       "      <td>0.000000</td>\n",
       "      <td>0.000000</td>\n",
       "      <td>0.000000</td>\n",
       "      <td>0.000000</td>\n",
       "      <td>1.000000</td>\n",
       "    </tr>\n",
       "    <tr>\n",
       "      <th>25%</th>\n",
       "      <td>2.000000</td>\n",
       "      <td>0.000000</td>\n",
       "      <td>0.000000</td>\n",
       "      <td>1.00000</td>\n",
       "      <td>13.940000</td>\n",
       "      <td>16.665000</td>\n",
       "      <td>46.000000</td>\n",
       "      <td>7.001500</td>\n",
       "      <td>4.000000</td>\n",
       "      <td>36.000000</td>\n",
       "      <td>41.000000</td>\n",
       "    </tr>\n",
       "    <tr>\n",
       "      <th>50%</th>\n",
       "      <td>3.000000</td>\n",
       "      <td>0.000000</td>\n",
       "      <td>1.000000</td>\n",
       "      <td>1.00000</td>\n",
       "      <td>20.500000</td>\n",
       "      <td>24.240000</td>\n",
       "      <td>61.000000</td>\n",
       "      <td>11.001400</td>\n",
       "      <td>16.000000</td>\n",
       "      <td>118.000000</td>\n",
       "      <td>144.000000</td>\n",
       "    </tr>\n",
       "    <tr>\n",
       "      <th>75%</th>\n",
       "      <td>4.000000</td>\n",
       "      <td>0.000000</td>\n",
       "      <td>1.000000</td>\n",
       "      <td>2.00000</td>\n",
       "      <td>27.060000</td>\n",
       "      <td>31.060000</td>\n",
       "      <td>78.000000</td>\n",
       "      <td>16.997900</td>\n",
       "      <td>48.000000</td>\n",
       "      <td>221.000000</td>\n",
       "      <td>282.000000</td>\n",
       "    </tr>\n",
       "    <tr>\n",
       "      <th>max</th>\n",
       "      <td>4.000000</td>\n",
       "      <td>1.000000</td>\n",
       "      <td>1.000000</td>\n",
       "      <td>4.00000</td>\n",
       "      <td>41.000000</td>\n",
       "      <td>45.455000</td>\n",
       "      <td>100.000000</td>\n",
       "      <td>56.996900</td>\n",
       "      <td>362.000000</td>\n",
       "      <td>886.000000</td>\n",
       "      <td>977.000000</td>\n",
       "    </tr>\n",
       "  </tbody>\n",
       "</table>\n",
       "</div>"
      ],
      "text/plain": [
       "            season      holiday   workingday     weather         temp  \\\n",
       "count  8600.000000  8600.000000  8600.000000  8600.00000  8600.000000   \n",
       "mean      2.505581     0.027791     0.682558     1.41000    20.119653   \n",
       "std       1.116628     0.164382     0.465508     0.63234     8.000975   \n",
       "min       1.000000     0.000000     0.000000     1.00000     0.820000   \n",
       "25%       2.000000     0.000000     0.000000     1.00000    13.940000   \n",
       "50%       3.000000     0.000000     1.000000     1.00000    20.500000   \n",
       "75%       4.000000     0.000000     1.000000     2.00000    27.060000   \n",
       "max       4.000000     1.000000     1.000000     4.00000    41.000000   \n",
       "\n",
       "             atemp     humidity    windspeed       casual   registered  \\\n",
       "count  8600.000000  8600.000000  8600.000000  8600.000000  8600.000000   \n",
       "mean     23.560989    61.590581    12.756693    35.689419   154.840814   \n",
       "std       8.690173    19.468443     8.209822    49.571896   150.760096   \n",
       "min       0.760000     0.000000     0.000000     0.000000     0.000000   \n",
       "25%      16.665000    46.000000     7.001500     4.000000    36.000000   \n",
       "50%      24.240000    61.000000    11.001400    16.000000   118.000000   \n",
       "75%      31.060000    78.000000    16.997900    48.000000   221.000000   \n",
       "max      45.455000   100.000000    56.996900   362.000000   886.000000   \n",
       "\n",
       "             count  \n",
       "count  8600.000000  \n",
       "mean    190.530233  \n",
       "std     180.631042  \n",
       "min       1.000000  \n",
       "25%      41.000000  \n",
       "50%     144.000000  \n",
       "75%     282.000000  \n",
       "max     977.000000  "
      ]
     },
     "execution_count": 76,
     "metadata": {},
     "output_type": "execute_result"
    }
   ],
   "source": [
    "## I. Load and Describe the data\n",
    "data = pd.read_csv(\"./input/train.csv\")\n",
    "#data\n",
    "#data.columns\n",
    "#data.head()\n",
    "#data.loc[2]\n",
    "#print(data.isnull().values.any())\n",
    "data.describe()\n",
    "#data.shape"
   ]
  },
  {
   "cell_type": "code",
   "execution_count": 40,
   "metadata": {},
   "outputs": [
    {
     "data": {
      "text/plain": [
       "datetime       object\n",
       "season          int64\n",
       "holiday         int64\n",
       "workingday      int64\n",
       "weather         int64\n",
       "temp          float64\n",
       "atemp         float64\n",
       "humidity        int64\n",
       "windspeed     float64\n",
       "casual          int64\n",
       "registered      int64\n",
       "count           int64\n",
       "dtype: object"
      ]
     },
     "execution_count": 40,
     "metadata": {},
     "output_type": "execute_result"
    }
   ],
   "source": [
    "data.dtypes"
   ]
  },
  {
   "cell_type": "code",
   "execution_count": 271,
   "metadata": {},
   "outputs": [
    {
     "data": {
      "text/plain": [
       "<matplotlib.axes._subplots.AxesSubplot at 0x1a18df5358>"
      ]
     },
     "execution_count": 271,
     "metadata": {},
     "output_type": "execute_result"
    },
    {
     "data": {
      "image/png": "[encoded data removed]",
      "text/plain": [
       "<Figure size 432x288 with 1 Axes>"
      ]
     },
     "metadata": {},
     "output_type": "display_data"
    }
   ],
   "source": [
    "# Look at the bike usages\n",
    "#data['count'].hist(bins=100,range=(0,1000))\n",
    "count_series = data['count']\n",
    "log_count = count_series.apply(np.log)\n",
    "log_count.hist(bins=100,range=(0,8))"
   ]
  },
  {
   "cell_type": "code",
   "execution_count": 272,
   "metadata": {},
   "outputs": [
    {
     "data": {
      "image/png": "[encoded data removed]",
      "text/plain": [
       "<Figure size 432x288 with 1 Axes>"
      ]
     },
     "metadata": {},
     "output_type": "display_data"
    }
   ],
   "source": [
    "# 1. relation between season and bike usage\n",
    "\n",
    "#plt.scatter(data['season'], data['count'])\n",
    "plt.scatter(data['season'], log_count)\n",
    "plt.show()"
   ]
  },
  {
   "cell_type": "code",
   "execution_count": 120,
   "metadata": {},
   "outputs": [
    {
     "data": {
      "text/html": [
       "<div>\n",
       "<style scoped>\n",
       "    .dataframe tbody tr th:only-of-type {\n",
       "        vertical-align: middle;\n",
       "    }\n",
       "\n",
       "    .dataframe tbody tr th {\n",
       "        vertical-align: top;\n",
       "    }\n",
       "\n",
       "    .dataframe thead th {\n",
       "        text-align: right;\n",
       "    }\n",
       "</style>\n",
       "<table border=\"1\" class=\"dataframe\">\n",
       "  <thead>\n",
       "    <tr style=\"text-align: right;\">\n",
       "      <th></th>\n",
       "      <th>count</th>\n",
       "      <th>mean</th>\n",
       "      <th>std</th>\n",
       "      <th>min</th>\n",
       "      <th>25%</th>\n",
       "      <th>50%</th>\n",
       "      <th>75%</th>\n",
       "      <th>max</th>\n",
       "    </tr>\n",
       "  </thead>\n",
       "  <tbody>\n",
       "    <tr>\n",
       "      <th>1</th>\n",
       "      <td>2127.0</td>\n",
       "      <td>111.514339</td>\n",
       "      <td>120.462934</td>\n",
       "      <td>1.0</td>\n",
       "      <td>23.0</td>\n",
       "      <td>75.0</td>\n",
       "      <td>155.0</td>\n",
       "      <td>782.0</td>\n",
       "    </tr>\n",
       "    <tr>\n",
       "      <th>2</th>\n",
       "      <td>2157.0</td>\n",
       "      <td>213.624015</td>\n",
       "      <td>190.236312</td>\n",
       "      <td>1.0</td>\n",
       "      <td>51.0</td>\n",
       "      <td>171.0</td>\n",
       "      <td>316.0</td>\n",
       "      <td>869.0</td>\n",
       "    </tr>\n",
       "    <tr>\n",
       "      <th>3</th>\n",
       "      <td>2157.0</td>\n",
       "      <td>234.596198</td>\n",
       "      <td>197.536537</td>\n",
       "      <td>1.0</td>\n",
       "      <td>67.0</td>\n",
       "      <td>196.0</td>\n",
       "      <td>349.0</td>\n",
       "      <td>977.0</td>\n",
       "    </tr>\n",
       "    <tr>\n",
       "      <th>4</th>\n",
       "      <td>2159.0</td>\n",
       "      <td>201.277443</td>\n",
       "      <td>178.412502</td>\n",
       "      <td>1.0</td>\n",
       "      <td>51.0</td>\n",
       "      <td>163.0</td>\n",
       "      <td>298.0</td>\n",
       "      <td>948.0</td>\n",
       "    </tr>\n",
       "  </tbody>\n",
       "</table>\n",
       "</div>"
      ],
      "text/plain": [
       "    count        mean         std  min   25%    50%    75%    max\n",
       "1  2127.0  111.514339  120.462934  1.0  23.0   75.0  155.0  782.0\n",
       "2  2157.0  213.624015  190.236312  1.0  51.0  171.0  316.0  869.0\n",
       "3  2157.0  234.596198  197.536537  1.0  67.0  196.0  349.0  977.0\n",
       "4  2159.0  201.277443  178.412502  1.0  51.0  163.0  298.0  948.0"
      ]
     },
     "execution_count": 120,
     "metadata": {},
     "output_type": "execute_result"
    },
    {
     "data": {
      "image/png": "[encoded data removed]",
      "text/plain": [
       "<Figure size 432x288 with 4 Axes>"
      ]
     },
     "metadata": {},
     "output_type": "display_data"
    }
   ],
   "source": [
    "#data['count'].hist()\n",
    "fig, axes = plt.subplots(1, 4)\n",
    "season1 = data[data['season']==1]\n",
    "season2 = data[data['season']==2]\n",
    "season3 = data[data['season']==3]\n",
    "season4 = data[data['season']==4]\n",
    "\n",
    "season1['count'].hist(bins=10,range=(0,1000),ax=axes[0])\n",
    "season2['count'].hist(bins=10,range=(0,1000), ax=axes[1])\n",
    "season3['count'].hist(bins=10,range=(0,1000), ax=axes[2])\n",
    "season4['count'].hist(bins=10,range=(0,1000), ax=axes[3])\n",
    "\n",
    "series1 = season1['count'].describe()\n",
    "pd1 = pd.DataFrame(series1).transpose()\n",
    "\n",
    "series2 = season2['count'].describe()\n",
    "pd2 = pd.DataFrame(series2).transpose()\n",
    "\n",
    "series3 = season3['count'].describe()\n",
    "pd3 = pd.DataFrame(series3).transpose()\n",
    "\n",
    "series4 = season4['count'].describe()\n",
    "pd4 = pd.DataFrame(series4).transpose()\n",
    "\n",
    "\n",
    "pd_all = pd.concat([pd1, pd2, pd3, pd4])\n",
    "pd_all.index = range(1,5)\n",
    "pd_all\n",
    "\n",
    "# Season do not affect the num of bikes usage a lot"
   ]
  },
  {
   "cell_type": "code",
   "execution_count": 50,
   "metadata": {},
   "outputs": [
    {
     "data": {
      "image/png": "[encoded data removed]",
      "text/plain": [
       "<Figure size 432x288 with 1 Axes>"
      ]
     },
     "metadata": {},
     "output_type": "display_data"
    }
   ],
   "source": [
    "# 2. relation between holiday and bike usage\n",
    "plt.scatter(data['holiday'], data['count'])\n",
    "plt.show()"
   ]
  },
  {
   "cell_type": "code",
   "execution_count": 131,
   "metadata": {},
   "outputs": [
    {
     "data": {
      "text/html": [
       "<div>\n",
       "<style scoped>\n",
       "    .dataframe tbody tr th:only-of-type {\n",
       "        vertical-align: middle;\n",
       "    }\n",
       "\n",
       "    .dataframe tbody tr th {\n",
       "        vertical-align: top;\n",
       "    }\n",
       "\n",
       "    .dataframe thead th {\n",
       "        text-align: right;\n",
       "    }\n",
       "</style>\n",
       "<table border=\"1\" class=\"dataframe\">\n",
       "  <thead>\n",
       "    <tr style=\"text-align: right;\">\n",
       "      <th></th>\n",
       "      <th>count</th>\n",
       "      <th>mean</th>\n",
       "      <th>std</th>\n",
       "      <th>min</th>\n",
       "      <th>25%</th>\n",
       "      <th>50%</th>\n",
       "      <th>75%</th>\n",
       "      <th>max</th>\n",
       "    </tr>\n",
       "  </thead>\n",
       "  <tbody>\n",
       "    <tr>\n",
       "      <th>0</th>\n",
       "      <td>8361.0</td>\n",
       "      <td>190.218873</td>\n",
       "      <td>180.973554</td>\n",
       "      <td>1.0</td>\n",
       "      <td>41.0</td>\n",
       "      <td>144.0</td>\n",
       "      <td>281.0</td>\n",
       "      <td>977.0</td>\n",
       "    </tr>\n",
       "    <tr>\n",
       "      <th>1</th>\n",
       "      <td>239.0</td>\n",
       "      <td>201.422594</td>\n",
       "      <td>168.201139</td>\n",
       "      <td>3.0</td>\n",
       "      <td>48.0</td>\n",
       "      <td>154.0</td>\n",
       "      <td>355.0</td>\n",
       "      <td>596.0</td>\n",
       "    </tr>\n",
       "  </tbody>\n",
       "</table>\n",
       "</div>"
      ],
      "text/plain": [
       "    count        mean         std  min   25%    50%    75%    max\n",
       "0  8361.0  190.218873  180.973554  1.0  41.0  144.0  281.0  977.0\n",
       "1   239.0  201.422594  168.201139  3.0  48.0  154.0  355.0  596.0"
      ]
     },
     "execution_count": 131,
     "metadata": {},
     "output_type": "execute_result"
    },
    {
     "data": {
      "image/png": "[encoded data removed]",
      "text/plain": [
       "<Figure size 432x288 with 2 Axes>"
      ]
     },
     "metadata": {},
     "output_type": "display_data"
    }
   ],
   "source": [
    "fig, axes = plt.subplots(1, 2)\n",
    "h0 = data[data['holiday']==0]\n",
    "h1 = data[data['holiday']==1]\n",
    "\n",
    "h0['count'].hist(bins=10,range=(0,1000),ax=axes[0])\n",
    "h1['count'].hist(bins=10,range=(0,1000), ax=axes[1])\n",
    "\n",
    "sh0 = h0['count'].describe()\n",
    "fh0 = pd.DataFrame(sh0).transpose()\n",
    "\n",
    "sh1 = h1['count'].describe()\n",
    "fh1 = pd.DataFrame(sh1).transpose()\n",
    "\n",
    "holiday_all = pd.concat([fh0,fh1])\n",
    "holiday_all.index = range(2)\n",
    "holiday_all\n",
    "# The num of bikes used in non-holidays is lesser than that of the holidays. (see mean value)"
   ]
  },
  {
   "cell_type": "code",
   "execution_count": 51,
   "metadata": {},
   "outputs": [
    {
     "data": {
      "image/png": "[encoded data removed]",
      "text/plain": [
       "<Figure size 432x288 with 1 Axes>"
      ]
     },
     "metadata": {},
     "output_type": "display_data"
    }
   ],
   "source": [
    "# 3. relation between workingday and bike usage\n",
    "plt.scatter(data['workingday'], data['count'])\n",
    "plt.show()"
   ]
  },
  {
   "cell_type": "code",
   "execution_count": 132,
   "metadata": {},
   "outputs": [
    {
     "data": {
      "text/html": [
       "<div>\n",
       "<style scoped>\n",
       "    .dataframe tbody tr th:only-of-type {\n",
       "        vertical-align: middle;\n",
       "    }\n",
       "\n",
       "    .dataframe tbody tr th {\n",
       "        vertical-align: top;\n",
       "    }\n",
       "\n",
       "    .dataframe thead th {\n",
       "        text-align: right;\n",
       "    }\n",
       "</style>\n",
       "<table border=\"1\" class=\"dataframe\">\n",
       "  <thead>\n",
       "    <tr style=\"text-align: right;\">\n",
       "      <th></th>\n",
       "      <th>count</th>\n",
       "      <th>mean</th>\n",
       "      <th>std</th>\n",
       "      <th>min</th>\n",
       "      <th>25%</th>\n",
       "      <th>50%</th>\n",
       "      <th>75%</th>\n",
       "      <th>max</th>\n",
       "    </tr>\n",
       "  </thead>\n",
       "  <tbody>\n",
       "    <tr>\n",
       "      <th>0</th>\n",
       "      <td>2730.0</td>\n",
       "      <td>188.066667</td>\n",
       "      <td>172.104383</td>\n",
       "      <td>1.0</td>\n",
       "      <td>44.0</td>\n",
       "      <td>130.0</td>\n",
       "      <td>303.0</td>\n",
       "      <td>783.0</td>\n",
       "    </tr>\n",
       "    <tr>\n",
       "      <th>1</th>\n",
       "      <td>5870.0</td>\n",
       "      <td>191.675980</td>\n",
       "      <td>184.465478</td>\n",
       "      <td>1.0</td>\n",
       "      <td>40.0</td>\n",
       "      <td>148.0</td>\n",
       "      <td>276.0</td>\n",
       "      <td>977.0</td>\n",
       "    </tr>\n",
       "  </tbody>\n",
       "</table>\n",
       "</div>"
      ],
      "text/plain": [
       "    count        mean         std  min   25%    50%    75%    max\n",
       "0  2730.0  188.066667  172.104383  1.0  44.0  130.0  303.0  783.0\n",
       "1  5870.0  191.675980  184.465478  1.0  40.0  148.0  276.0  977.0"
      ]
     },
     "execution_count": 132,
     "metadata": {},
     "output_type": "execute_result"
    },
    {
     "data": {
      "image/png": "[encoded data removed]",
      "text/plain": [
       "<Figure size 432x288 with 2 Axes>"
      ]
     },
     "metadata": {},
     "output_type": "display_data"
    }
   ],
   "source": [
    "fig, axes = plt.subplots(1, 2)\n",
    "w0 = data[data['workingday']==0]\n",
    "w1 = data[data['workingday']==1]\n",
    "\n",
    "w0['count'].hist(bins=10,range=(0,1000),ax=axes[0])\n",
    "w1['count'].hist(bins=10,range=(0,1000), ax=axes[1])\n",
    "\n",
    "sw0 = w0['count'].describe()\n",
    "fw0 = pd.DataFrame(sw0).transpose()\n",
    "\n",
    "sw1 = w1['count'].describe()\n",
    "fw1 = pd.DataFrame(sw1).transpose()\n",
    "\n",
    "workingday_all = pd.concat([fw0,fw1])\n",
    "workingday_all.index = range(2)\n",
    "workingday_all\n",
    "\n",
    "# When it is a workday, people tend to use the bikes"
   ]
  },
  {
   "cell_type": "code",
   "execution_count": 52,
   "metadata": {},
   "outputs": [
    {
     "data": {
      "image/png": "[encoded data removed]",
      "text/plain": [
       "<Figure size 432x288 with 1 Axes>"
      ]
     },
     "metadata": {},
     "output_type": "display_data"
    }
   ],
   "source": [
    "# 4. relation between season and bike usage\n",
    "plt.scatter(data['weather'], data['count'])\n",
    "plt.show()"
   ]
  },
  {
   "cell_type": "code",
   "execution_count": 642,
   "metadata": {},
   "outputs": [
    {
     "data": {
      "text/html": [
       "<div>\n",
       "<style scoped>\n",
       "    .dataframe tbody tr th:only-of-type {\n",
       "        vertical-align: middle;\n",
       "    }\n",
       "\n",
       "    .dataframe tbody tr th {\n",
       "        vertical-align: top;\n",
       "    }\n",
       "\n",
       "    .dataframe thead th {\n",
       "        text-align: right;\n",
       "    }\n",
       "</style>\n",
       "<table border=\"1\" class=\"dataframe\">\n",
       "  <thead>\n",
       "    <tr style=\"text-align: right;\">\n",
       "      <th></th>\n",
       "      <th>count</th>\n",
       "      <th>mean</th>\n",
       "      <th>std</th>\n",
       "      <th>min</th>\n",
       "      <th>25%</th>\n",
       "      <th>50%</th>\n",
       "      <th>75%</th>\n",
       "      <th>max</th>\n",
       "    </tr>\n",
       "  </thead>\n",
       "  <tbody>\n",
       "    <tr>\n",
       "      <th>count</th>\n",
       "      <td>1.0</td>\n",
       "      <td>164.0</td>\n",
       "      <td>NaN</td>\n",
       "      <td>164.0</td>\n",
       "      <td>164.0</td>\n",
       "      <td>164.0</td>\n",
       "      <td>164.0</td>\n",
       "      <td>164.0</td>\n",
       "    </tr>\n",
       "  </tbody>\n",
       "</table>\n",
       "</div>"
      ],
      "text/plain": [
       "       count   mean  std    min    25%    50%    75%    max\n",
       "count    1.0  164.0  NaN  164.0  164.0  164.0  164.0  164.0"
      ]
     },
     "execution_count": 642,
     "metadata": {},
     "output_type": "execute_result"
    },
    {
     "data": {
      "image/png": "[encoded data removed]",
      "text/plain": [
       "<Figure size 432x288 with 4 Axes>"
      ]
     },
     "metadata": {},
     "output_type": "display_data"
    }
   ],
   "source": [
    "fig, axes = plt.subplots(1, 4)\n",
    "wht1 = data[data['weather']==1]\n",
    "wht2 = data[data['weather']==2]\n",
    "wht3 = data[data['weather']==3]\n",
    "wht4 = data[data['weather']==4]\n",
    "\n",
    "wht1['count'].hist(bins=10,range=(0,1000),ax=axes[0])\n",
    "wht2['count'].hist(bins=10,range=(0,1000), ax=axes[1])\n",
    "wht3['count'].hist(bins=10,range=(0,1000), ax=axes[2])\n",
    "wht4['count'].hist(bins=10,range=(0,1000), ax=axes[3])\n",
    "\n",
    "series1 = wht1['count'].describe()\n",
    "pd1 = pd.DataFrame(series1).transpose()\n",
    "\n",
    "series2 = wht2['count'].describe()\n",
    "pd2 = pd.DataFrame(series2).transpose()\n",
    "\n",
    "series3 = wht3['count'].describe()\n",
    "pd3 = pd.DataFrame(series3).transpose()\n",
    "\n",
    "series4 = wht4['count'].describe()\n",
    "pd4 = pd.DataFrame(series4).transpose()\n",
    "\n",
    "\n",
    "\n",
    "pd_all = pd.concat([pd1, pd2, pd3, pd4])\n",
    "pd_all.index = range(1,5)\n",
    "#pd_all\n",
    "pd4\n",
    "\n",
    "## Remove the severe weather of 4"
   ]
  },
  {
   "cell_type": "code",
   "execution_count": 850,
   "metadata": {},
   "outputs": [
    {
     "data": {
      "image/png": "[encoded data removed]",
      "text/plain": [
       "<Figure size 432x288 with 1 Axes>"
      ]
     },
     "metadata": {},
     "output_type": "display_data"
    }
   ],
   "source": [
    "# 5. relation between temperature and bike usage\n",
    "plt.scatter(data['temp'], data['count'])\n",
    "plt.show()"
   ]
  },
  {
   "cell_type": "code",
   "execution_count": 54,
   "metadata": {},
   "outputs": [
    {
     "data": {
      "image/png": "[encoded data removed]",
      "text/plain": [
       "<Figure size 432x288 with 1 Axes>"
      ]
     },
     "metadata": {},
     "output_type": "display_data"
    }
   ],
   "source": [
    "# 6. relation between temperature felt and bike usage\n",
    "plt.scatter(data['atemp'], data['count'])\n",
    "plt.show()"
   ]
  },
  {
   "cell_type": "code",
   "execution_count": 57,
   "metadata": {},
   "outputs": [
    {
     "data": {
      "image/png": "[encoded data removed]",
      "text/plain": [
       "<Figure size 432x288 with 1 Axes>"
      ]
     },
     "metadata": {},
     "output_type": "display_data"
    }
   ],
   "source": [
    "# 7. relation between humidity and bike usage\n",
    "plt.scatter(data['humidity'], data['count'])\n",
    "plt.show()"
   ]
  },
  {
   "cell_type": "code",
   "execution_count": 58,
   "metadata": {},
   "outputs": [
    {
     "data": {
      "image/png": "[encoded data removed]",
      "text/plain": [
       "<Figure size 432x288 with 1 Axes>"
      ]
     },
     "metadata": {},
     "output_type": "display_data"
    }
   ],
   "source": [
    "# 8. relation between windspeed and bike usage\n",
    "plt.scatter(data['windspeed'], data['count'])\n",
    "plt.show()"
   ]
  },
  {
   "cell_type": "code",
   "execution_count": 746,
   "metadata": {},
   "outputs": [
    {
     "data": {
      "text/html": [
       "<div>\n",
       "<style scoped>\n",
       "    .dataframe tbody tr th:only-of-type {\n",
       "        vertical-align: middle;\n",
       "    }\n",
       "\n",
       "    .dataframe tbody tr th {\n",
       "        vertical-align: top;\n",
       "    }\n",
       "\n",
       "    .dataframe thead th {\n",
       "        text-align: right;\n",
       "    }\n",
       "</style>\n",
       "<table border=\"1\" class=\"dataframe\">\n",
       "  <thead>\n",
       "    <tr style=\"text-align: right;\">\n",
       "      <th></th>\n",
       "      <th>datetime</th>\n",
       "      <th>season</th>\n",
       "      <th>holiday</th>\n",
       "      <th>workingday</th>\n",
       "      <th>weather</th>\n",
       "      <th>temp</th>\n",
       "      <th>atemp</th>\n",
       "      <th>humidity</th>\n",
       "      <th>windspeed</th>\n",
       "      <th>casual</th>\n",
       "      <th>registered</th>\n",
       "      <th>count</th>\n",
       "      <th>year</th>\n",
       "      <th>month</th>\n",
       "      <th>day</th>\n",
       "      <th>hour</th>\n",
       "      <th>weekday</th>\n",
       "    </tr>\n",
       "  </thead>\n",
       "  <tbody>\n",
       "    <tr>\n",
       "      <th>0</th>\n",
       "      <td>2011-01-01 00:00:00</td>\n",
       "      <td>1</td>\n",
       "      <td>0</td>\n",
       "      <td>0</td>\n",
       "      <td>1</td>\n",
       "      <td>9.84</td>\n",
       "      <td>14.395</td>\n",
       "      <td>81</td>\n",
       "      <td>0.0</td>\n",
       "      <td>3</td>\n",
       "      <td>13</td>\n",
       "      <td>16</td>\n",
       "      <td>2011</td>\n",
       "      <td>1</td>\n",
       "      <td>1</td>\n",
       "      <td>0</td>\n",
       "      <td>5</td>\n",
       "    </tr>\n",
       "    <tr>\n",
       "      <th>1</th>\n",
       "      <td>2011-01-01 01:00:00</td>\n",
       "      <td>1</td>\n",
       "      <td>0</td>\n",
       "      <td>0</td>\n",
       "      <td>1</td>\n",
       "      <td>9.02</td>\n",
       "      <td>13.635</td>\n",
       "      <td>80</td>\n",
       "      <td>0.0</td>\n",
       "      <td>8</td>\n",
       "      <td>32</td>\n",
       "      <td>40</td>\n",
       "      <td>2011</td>\n",
       "      <td>1</td>\n",
       "      <td>1</td>\n",
       "      <td>1</td>\n",
       "      <td>5</td>\n",
       "    </tr>\n",
       "    <tr>\n",
       "      <th>2</th>\n",
       "      <td>2011-01-01 02:00:00</td>\n",
       "      <td>1</td>\n",
       "      <td>0</td>\n",
       "      <td>0</td>\n",
       "      <td>1</td>\n",
       "      <td>9.02</td>\n",
       "      <td>13.635</td>\n",
       "      <td>80</td>\n",
       "      <td>0.0</td>\n",
       "      <td>5</td>\n",
       "      <td>27</td>\n",
       "      <td>32</td>\n",
       "      <td>2011</td>\n",
       "      <td>1</td>\n",
       "      <td>1</td>\n",
       "      <td>2</td>\n",
       "      <td>5</td>\n",
       "    </tr>\n",
       "    <tr>\n",
       "      <th>3</th>\n",
       "      <td>2011-01-01 03:00:00</td>\n",
       "      <td>1</td>\n",
       "      <td>0</td>\n",
       "      <td>0</td>\n",
       "      <td>1</td>\n",
       "      <td>9.84</td>\n",
       "      <td>14.395</td>\n",
       "      <td>75</td>\n",
       "      <td>0.0</td>\n",
       "      <td>3</td>\n",
       "      <td>10</td>\n",
       "      <td>13</td>\n",
       "      <td>2011</td>\n",
       "      <td>1</td>\n",
       "      <td>1</td>\n",
       "      <td>3</td>\n",
       "      <td>5</td>\n",
       "    </tr>\n",
       "    <tr>\n",
       "      <th>4</th>\n",
       "      <td>2011-01-01 04:00:00</td>\n",
       "      <td>1</td>\n",
       "      <td>0</td>\n",
       "      <td>0</td>\n",
       "      <td>1</td>\n",
       "      <td>9.84</td>\n",
       "      <td>14.395</td>\n",
       "      <td>75</td>\n",
       "      <td>0.0</td>\n",
       "      <td>0</td>\n",
       "      <td>1</td>\n",
       "      <td>1</td>\n",
       "      <td>2011</td>\n",
       "      <td>1</td>\n",
       "      <td>1</td>\n",
       "      <td>4</td>\n",
       "      <td>5</td>\n",
       "    </tr>\n",
       "  </tbody>\n",
       "</table>\n",
       "</div>"
      ],
      "text/plain": [
       "             datetime  season  holiday  workingday  weather  temp   atemp  \\\n",
       "0 2011-01-01 00:00:00       1        0           0        1  9.84  14.395   \n",
       "1 2011-01-01 01:00:00       1        0           0        1  9.02  13.635   \n",
       "2 2011-01-01 02:00:00       1        0           0        1  9.02  13.635   \n",
       "3 2011-01-01 03:00:00       1        0           0        1  9.84  14.395   \n",
       "4 2011-01-01 04:00:00       1        0           0        1  9.84  14.395   \n",
       "\n",
       "   humidity  windspeed  casual  registered  count  year  month  day  hour  \\\n",
       "0        81        0.0       3          13     16  2011      1    1     0   \n",
       "1        80        0.0       8          32     40  2011      1    1     1   \n",
       "2        80        0.0       5          27     32  2011      1    1     2   \n",
       "3        75        0.0       3          10     13  2011      1    1     3   \n",
       "4        75        0.0       0           1      1  2011      1    1     4   \n",
       "\n",
       "   weekday  \n",
       "0        5  \n",
       "1        5  \n",
       "2        5  \n",
       "3        5  \n",
       "4        5  "
      ]
     },
     "execution_count": 746,
     "metadata": {},
     "output_type": "execute_result"
    }
   ],
   "source": [
    "# II. Fitting data using the right model with sense obtained above\n",
    "#data.columns\n",
    "data.head()"
   ]
  },
  {
   "cell_type": "code",
   "execution_count": 747,
   "metadata": {},
   "outputs": [],
   "source": [
    "# 1. Preprocessing Dataset\n",
    "#print(data.isnull().values.any())\n",
    "\n",
    "# # time\n",
    "# data['datetime'] = pd.to_datetime(data.datetime)\n",
    "\n",
    "# #plt.plot(data['datetime'].dt.month,data['count'])\n",
    "# plt.plot(data['datetime'],data['count'])\n",
    "\n",
    "\n",
    "# data['year'] = data.datetime.dt.year\n",
    "# data['month'] = data.datetime.dt.month\n",
    "# data['weekday'] = data.datetime.dt.dayofweek\n",
    "# data['hour'] = data.datetime.dt.hour\n",
    "\n",
    "# data.head()\n",
    "#data['atemp']"
   ]
  },
  {
   "cell_type": "code",
   "execution_count": 899,
   "metadata": {},
   "outputs": [],
   "source": [
    "# Reformat dataset\n",
    "def reformat(data):\n",
    "    dc = data.copy(deep=True)\n",
    "    dc['datetime'] = pd.to_datetime(dc.datetime)\n",
    "    dc['year'] = dc.datetime.dt.year\n",
    "    dc['month'] = dc.datetime.dt.month\n",
    "    dc['weekday'] = dc.datetime.dt.dayofweek\n",
    "    dc['hour'] = dc.datetime.dt.hour\n",
    "    dc['weekdayhour'] =  dc['weekday']*dc['hour'] \n",
    "    #dc['atemp'] = dc['atemp']**2\n",
    "    dc['atemp_sqr'] = dc['atemp']**2\n",
    "    #dc['temp'] = dc['temp']**2\n",
    "    \n",
    "    #count~temp+atemp+humidity+windspeed+holiday+workingday+C(season)+C(weather)\n",
    "    #y,X = dmatrices('count~atemp_sqr+atemp+humidity+windspeed+holiday+C(weather)+C(year)+C(month)+C(weekday)+C(hour)', dc, return_type='dataframe')\n",
    "    #y,X = dmatrices('count~atemp+humidity+windspeed+holiday+C(weather)+C(year)+C(month)+C(weekday)+C(hour)', dc, return_type='dataframe')\n",
    "    y,X = dmatrices('count~atemp+humidity+windspeed+holiday+C(weather)+C(year)+C(month)+C(weekdayhour)', dc, return_type='dataframe')\n",
    "#     X = X.rename(columns = {\n",
    "#     'C(season)[T.2]': 'Summer',\n",
    "#     'C(season)[T.3]': 'Autumn',\n",
    "#     'C(season)[T.4]': 'Winter',\n",
    "#     'C(weather)[T.2]': 'fog',\n",
    "#     'C(weather)[T.3]': 'small_rain',\n",
    "#     'C(weather)[T.4]': 'severe_w'}) \n",
    "    return y,X"
   ]
  },
  {
   "cell_type": "code",
   "execution_count": 900,
   "metadata": {},
   "outputs": [],
   "source": [
    "# Cleaning data\n",
    "#print(data.isnull().values.any())\n",
    "# drop severe weather\n",
    "data = data[data['weather']!=4]\n",
    "y, X = reformat(data)\n",
    "\n",
    "y = np.ravel(y)\n",
    "y_log = np.log(y)\n",
    "#y_log\n",
    "#X=X.drop(columns=['severe_w'])\n",
    "#X=X.drop(columns=['C(weather)[T.4]'])\n",
    "#C(weather)[T.4]\n",
    "#X"
   ]
  },
  {
   "cell_type": "code",
   "execution_count": 901,
   "metadata": {},
   "outputs": [],
   "source": [
    "# 2. Split dataset: 0.8 Training, 0.2 Testing\n",
    "#xtrain, xtest, ytrain, ytest = train_test_split(X, y, test_size=0.2, random_state=0)\n",
    "xtrain, xtest, ytrain, ytest = train_test_split(X, y_log, test_size=0.2, random_state=0)\n",
    "#xtrain\n",
    "#ytrain"
   ]
  },
  {
   "cell_type": "code",
   "execution_count": null,
   "metadata": {},
   "outputs": [],
   "source": []
  },
  {
   "cell_type": "code",
   "execution_count": 898,
   "metadata": {},
   "outputs": [],
   "source": [
    "## Loop the alpha for Ridge\n",
    "test = np.zeros((10,2))\n",
    "cnt = 0\n",
    "for i in range(10):\n",
    "    a = 0.1+ i*0.1\n",
    "    #par = \"alpha=\"+str(a)\n",
    "    model = Ridge(a)\n",
    "    model.fit(xtrain, ytrain)\n",
    "    pred = model.predict(xtrain)\n",
    "    RMSLE_train = np.sqrt(((np.log2(np.exp(ytrain) + 1) - np.log2(np.exp(pred) + 1))**2).sum() / len(ytrain))\n",
    "    \n",
    "    test[cnt][0] = a\n",
    "   # test[cnt][1] = model.score(xtrain,ytrain)\n",
    "    test[cnt][1] = RMSLE_train\n",
    "    \n",
    "    cnt +=1\n",
    "\n",
    "#plt.plot(test[:,0],test[:,1])\n"
   ]
  },
  {
   "cell_type": "code",
   "execution_count": 874,
   "metadata": {},
   "outputs": [],
   "source": [
    "s = ['auto', 'svd', 'cholesky', 'lsqr', 'sparse_cg', 'sag','saga']\n",
    "test2 = np.zeros((7,2))\n",
    "cnt2 = 0\n",
    "for i,j in enumerate(s):\n",
    "    model = Ridge(solver=j)\n",
    "    model.fit(xtrain, ytrain)\n",
    "    pred = model.predict(xtrain)\n",
    "    RMSLE_train = np.sqrt(((np.log2(np.exp(ytrain) + 1) - np.log2(np.exp(pred) + 1))**2).sum() / len(ytrain))\n",
    "    \n",
    "    test2[cnt2][0] = i\n",
    "    test2[cnt2][1] = RMSLE_train\n",
    "    \n",
    "    cnt2 +=1\n",
    "\n",
    "#plt.plot(test2[:,0],test2[:,1])\n",
    "\n"
   ]
  },
  {
   "cell_type": "code",
   "execution_count": 902,
   "metadata": {},
   "outputs": [
    {
     "data": {
      "text/plain": [
       "Ridge(alpha=1.0, copy_X=True, fit_intercept=True, max_iter=None,\n",
       "   normalize=False, random_state=None, solver='auto', tol=0.001)"
      ]
     },
     "execution_count": 902,
     "metadata": {},
     "output_type": "execute_result"
    }
   ],
   "source": [
    "# 3. Choose Model and Fit\n",
    "#model = LogisticRegression()\n",
    "#model = LinearRegression()\n",
    "#model = Lasso()\n",
    "model = Ridge()\n",
    "\n",
    "#model.fit(X, y)\n",
    "model.fit(xtrain, ytrain)"
   ]
  },
  {
   "cell_type": "code",
   "execution_count": 903,
   "metadata": {},
   "outputs": [],
   "source": [
    "# 4. Fitting results (coefficients, etc)\n",
    "\n",
    "#pd.DataFrame(list(zip(X.columns, np.transpose(model.coef_))))\n",
    "#model.intercept_"
   ]
  },
  {
   "cell_type": "code",
   "execution_count": 904,
   "metadata": {},
   "outputs": [
    {
     "name": "stdout",
     "output_type": "stream",
     "text": [
      "0.5856616858213074\n"
     ]
    },
    {
     "data": {
      "text/plain": [
       "1.316517747095645"
      ]
     },
     "execution_count": 904,
     "metadata": {},
     "output_type": "execute_result"
    }
   ],
   "source": [
    "# 5. The score, MSE and RMSLE on Training Data\n",
    "\n",
    "# Score\n",
    "print(model.score(xtrain,ytrain))\n",
    "\n",
    "# MSE\n",
    "pred = model.predict(xtrain)\n",
    "((pred-ytrain)*(pred-ytrain)).sum() / len(ytrain)\n",
    "# Relative Error\n",
    "#(abs(pred-ytrain)/ytrain).sum() / len(ytrain)\n",
    "\n",
    "# RMSLE\n",
    "#RMSLE_train = np.sqrt(((np.log2(ytrain + 1) - np.log2(pred + 1))**2).sum() / len(ytrain))\n",
    "RMSLE_train = np.sqrt(((np.log2(np.exp(ytrain) + 1) - np.log2(np.exp(pred) + 1))**2).sum() / len(ytrain))\n",
    "RMSLE_train\n",
    "#print(ytrain.astype(int))\n",
    "#print(pred.astype(int))"
   ]
  },
  {
   "cell_type": "code",
   "execution_count": 877,
   "metadata": {},
   "outputs": [],
   "source": [
    "# 6. The score on Test Data\n",
    "#print(metrics.classification_report(ytest, pred))\n",
    "#print(cross_val_score(LogisticRegression(), X, y, scoring='accuracy', cv=10))"
   ]
  },
  {
   "cell_type": "code",
   "execution_count": 878,
   "metadata": {},
   "outputs": [
    {
     "name": "stdout",
     "output_type": "stream",
     "text": [
      "0.33069957339589195\n"
     ]
    },
    {
     "data": {
      "text/plain": [
       "1.6541815206982953"
      ]
     },
     "execution_count": 878,
     "metadata": {},
     "output_type": "execute_result"
    }
   ],
   "source": [
    "# 7. The score and MSE on Test Data\n",
    "print(model.score(xtest,ytest))\n",
    "predtest = model.predict(xtest)\n",
    "((predtest-ytest)*(predtest-ytest)).sum() / len(ytest)\n",
    "\n",
    "# RMSLE\n",
    "RMSLE_test = np.sqrt(((np.log2(np.exp(ytest) + 1) - np.log2(np.exp(predtest) + 1))**2).sum() / len(ytest))\n",
    "#ytrain**2\n",
    "RMSLE_test"
   ]
  },
  {
   "cell_type": "code",
   "execution_count": 840,
   "metadata": {},
   "outputs": [],
   "source": [
    "# Relative Error on Test Data\n",
    "#(abs(predtest-ytest)/ytest).sum() / len(ytest)"
   ]
  },
  {
   "cell_type": "code",
   "execution_count": 841,
   "metadata": {},
   "outputs": [
    {
     "name": "stdout",
     "output_type": "stream",
     "text": [
      "0.8299089219213247\n",
      "0.8364659030169412\n",
      "[ 16  40  32 ... 184 156 119]\n",
      "[ 17   8   4 ... 228 176 115]\n"
     ]
    }
   ],
   "source": [
    "# 8. Use all training data to train\n",
    "model = LinearRegression()\n",
    "model.fit(X, y_log)\n",
    "# Score\n",
    "print(model.score(X,y_log))\n",
    "\n",
    "# RMSLE\n",
    "pred = model.predict(X)\n",
    "#RMSLE_train = np.sqrt(((np.log2(ytrain + 1) - np.log2(pred + 1))**2).sum() / len(ytrain))\n",
    "RMSLE_train = np.sqrt(((np.log2(np.exp(y_log) + 1) - np.log2(np.exp(pred) + 1))**2).sum() / len(y_log))\n",
    "print(RMSLE_train)\n",
    "print(y.astype(int))\n",
    "print(np.exp(pred).astype(int))"
   ]
  },
  {
   "cell_type": "code",
   "execution_count": 842,
   "metadata": {
    "scrolled": true
   },
   "outputs": [
    {
     "data": {
      "text/html": [
       "<div>\n",
       "<style scoped>\n",
       "    .dataframe tbody tr th:only-of-type {\n",
       "        vertical-align: middle;\n",
       "    }\n",
       "\n",
       "    .dataframe tbody tr th {\n",
       "        vertical-align: top;\n",
       "    }\n",
       "\n",
       "    .dataframe thead th {\n",
       "        text-align: right;\n",
       "    }\n",
       "</style>\n",
       "<table border=\"1\" class=\"dataframe\">\n",
       "  <thead>\n",
       "    <tr style=\"text-align: right;\">\n",
       "      <th></th>\n",
       "      <th>datetime</th>\n",
       "      <th>season</th>\n",
       "      <th>holiday</th>\n",
       "      <th>workingday</th>\n",
       "      <th>weather</th>\n",
       "      <th>temp</th>\n",
       "      <th>atemp</th>\n",
       "      <th>humidity</th>\n",
       "      <th>windspeed</th>\n",
       "    </tr>\n",
       "  </thead>\n",
       "  <tbody>\n",
       "    <tr>\n",
       "      <th>0</th>\n",
       "      <td>2011-01-16 00:00:00</td>\n",
       "      <td>1</td>\n",
       "      <td>0</td>\n",
       "      <td>0</td>\n",
       "      <td>1</td>\n",
       "      <td>10.66</td>\n",
       "      <td>15.150</td>\n",
       "      <td>56</td>\n",
       "      <td>0.0000</td>\n",
       "    </tr>\n",
       "    <tr>\n",
       "      <th>1</th>\n",
       "      <td>2011-01-16 01:00:00</td>\n",
       "      <td>1</td>\n",
       "      <td>0</td>\n",
       "      <td>0</td>\n",
       "      <td>1</td>\n",
       "      <td>10.66</td>\n",
       "      <td>13.635</td>\n",
       "      <td>56</td>\n",
       "      <td>8.9981</td>\n",
       "    </tr>\n",
       "    <tr>\n",
       "      <th>2</th>\n",
       "      <td>2011-01-16 02:00:00</td>\n",
       "      <td>1</td>\n",
       "      <td>0</td>\n",
       "      <td>0</td>\n",
       "      <td>1</td>\n",
       "      <td>10.66</td>\n",
       "      <td>14.395</td>\n",
       "      <td>56</td>\n",
       "      <td>6.0032</td>\n",
       "    </tr>\n",
       "    <tr>\n",
       "      <th>3</th>\n",
       "      <td>2011-01-16 03:00:00</td>\n",
       "      <td>1</td>\n",
       "      <td>0</td>\n",
       "      <td>0</td>\n",
       "      <td>1</td>\n",
       "      <td>9.02</td>\n",
       "      <td>13.635</td>\n",
       "      <td>69</td>\n",
       "      <td>0.0000</td>\n",
       "    </tr>\n",
       "    <tr>\n",
       "      <th>4</th>\n",
       "      <td>2011-01-16 04:00:00</td>\n",
       "      <td>1</td>\n",
       "      <td>0</td>\n",
       "      <td>0</td>\n",
       "      <td>1</td>\n",
       "      <td>10.66</td>\n",
       "      <td>12.880</td>\n",
       "      <td>56</td>\n",
       "      <td>11.0014</td>\n",
       "    </tr>\n",
       "  </tbody>\n",
       "</table>\n",
       "</div>"
      ],
      "text/plain": [
       "              datetime  season  holiday  workingday  weather   temp   atemp  \\\n",
       "0  2011-01-16 00:00:00       1        0           0        1  10.66  15.150   \n",
       "1  2011-01-16 01:00:00       1        0           0        1  10.66  13.635   \n",
       "2  2011-01-16 02:00:00       1        0           0        1  10.66  14.395   \n",
       "3  2011-01-16 03:00:00       1        0           0        1   9.02  13.635   \n",
       "4  2011-01-16 04:00:00       1        0           0        1  10.66  12.880   \n",
       "\n",
       "   humidity  windspeed  \n",
       "0        56     0.0000  \n",
       "1        56     8.9981  \n",
       "2        56     6.0032  \n",
       "3        69     0.0000  \n",
       "4        56    11.0014  "
      ]
     },
     "execution_count": 842,
     "metadata": {},
     "output_type": "execute_result"
    }
   ],
   "source": [
    "# 9. Predict on real test csv\n",
    "testset=pd.read_csv('./input/test.csv')\n",
    "testset.head()"
   ]
  },
  {
   "cell_type": "code",
   "execution_count": 843,
   "metadata": {},
   "outputs": [],
   "source": [
    "# Reformat test dataset\n",
    "def reformat_test(data):\n",
    "    dc = data.copy(deep=True)\n",
    "    dc['datetime'] = pd.to_datetime(dc.datetime)\n",
    "    dc['year'] = dc.datetime.dt.year\n",
    "    dc['month'] = dc.datetime.dt.month\n",
    "    dc['weekday'] = dc.datetime.dt.dayofweek\n",
    "    dc['hour'] = dc.datetime.dt.hour\n",
    "    #dc['atemp'] = dc['atemp']**2\n",
    "    #dc['temp'] = dc['temp']**2\n",
    "    \n",
    "    #count~temp+atemp+humidity+windspeed+holiday+workingday+C(season)+C(weather)\n",
    "    y,X = dmatrices('datetime~atemp+humidity+windspeed+holiday+C(weather)+C(year)+C(month)+C(weekday)+C(hour)', dc, return_type='dataframe')\n",
    "    return X"
   ]
  },
  {
   "cell_type": "code",
   "execution_count": 844,
   "metadata": {},
   "outputs": [],
   "source": [
    "test_reform = reformat_test(testset)\n",
    "#test_reform.head()"
   ]
  },
  {
   "cell_type": "code",
   "execution_count": 845,
   "metadata": {},
   "outputs": [],
   "source": [
    "#xtrain.head()"
   ]
  },
  {
   "cell_type": "code",
   "execution_count": 846,
   "metadata": {},
   "outputs": [
    {
     "name": "stdout",
     "output_type": "stream",
     "text": [
      "[ 16   8   4 ... 181 149  98]\n"
     ]
    }
   ],
   "source": [
    "result= model.predict(test_reform)\n",
    "res = np.exp(result).astype(int)\n",
    "df = pd.DataFrame({\"datetime\": testset['datetime'],\"count\": res})\n",
    "df.to_csv('submission.csv',header=True, index=False)\n",
    "print(res)"
   ]
  },
  {
   "cell_type": "code",
   "execution_count": null,
   "metadata": {},
   "outputs": [],
   "source": []
  },
  {
   "cell_type": "code",
   "execution_count": null,
   "metadata": {},
   "outputs": [],
   "source": []
  },
  {
   "cell_type": "code",
   "execution_count": null,
   "metadata": {},
   "outputs": [],
   "source": []
  },
  {
   "cell_type": "code",
   "execution_count": null,
   "metadata": {},
   "outputs": [],
   "source": []
  },
  {
   "cell_type": "code",
   "execution_count": null,
   "metadata": {},
   "outputs": [],
   "source": []
  },
  {
   "cell_type": "code",
   "execution_count": null,
   "metadata": {},
   "outputs": [],
   "source": []
  },
  {
   "cell_type": "code",
   "execution_count": null,
   "metadata": {},
   "outputs": [],
   "source": []
  },
  {
   "cell_type": "code",
   "execution_count": null,
   "metadata": {},
   "outputs": [],
   "source": []
  }
 ],
 "metadata": {
  "kernelspec": {
   "display_name": "Python 3",
   "language": "python",
   "name": "python3"
  },
  "language_info": {
   "codemirror_mode": {
    "name": "ipython",
    "version": 3
   },
   "file_extension": ".py",
   "mimetype": "text/x-python",
   "name": "python",
   "nbconvert_exporter": "python",
   "pygments_lexer": "ipython3",
   "version": "3.6.5"
  }
 },
 "nbformat": 4,
 "nbformat_minor": 2
}
